{
 "cells": [
  {
   "cell_type": "code",
   "execution_count": 1,
   "metadata": {},
   "outputs": [],
   "source": [
    "import z3\n",
    "from lib.ts import Ts\n",
    "from lib.prove import prove_inductive"
   ]
  },
  {
   "cell_type": "code",
   "execution_count": 2,
   "metadata": {},
   "outputs": [],
   "source": [
    "# The smart contract as a transition system.\n",
    "ts = Ts('erc721')\n",
    "\n",
    "owner = 100\n",
    "sender = z3.BitVec('sender', 16)\n",
    "receiver = z3.BitVec('receiver', 16)\n",
    "tokenId = z3.BitVec('tokenId',16)\n",
    "p = z3.BitVec('p',16)\n",
    "q = z3.BitVec('q',16)\n",
    "address = z3.BitVec('address',16)\n",
    "\n",
    "# ownerOf\n",
    "ownerOf, ownerOfOut = ts.add_var(z3.ArraySort(z3.BitVecSort(16), z3.BitVecSort(16)), name='ownerOf')\n",
    "\n",
    "# exist\n",
    "exists, existsOut = ts.add_var(z3.ArraySort(z3.BitVecSort(16), z3.BoolSort()), name='exists')\n",
    "\n",
    "# Balances as an array, mapping from address to Integer.\n",
    "balances, balancesOut = ts.add_var(z3.ArraySort(z3.BitVecSort(16), z3.IntSort()), name='balance')\n",
    "\n",
    "# Allowance \n",
    "tokenApprovals, tokenApprovalsOut = ts.add_var(z3.ArraySort(z3.BitVecSort(16), z3.BitVecSort(16)),\n",
    "        name='tokenApprovals')\n",
    "\n",
    "# Operator can transfer all tokens of an account\n",
    "operatorApproval, operatorApprovalOut = ts.add_var(z3.ArraySort(z3.BitVecSort(16), \n",
    "        z3.ArraySort(z3.BitVecSort(16), z3.BoolSort())), \n",
    "        name='operatorApproval')"
   ]
  },
  {
   "cell_type": "code",
   "execution_count": 3,
   "metadata": {},
   "outputs": [],
   "source": [
    "ts.Init = z3.And(\n",
    "    z3.ForAll(p, balances[p]==0),\n",
    "    z3.ForAll(p, ownerOf[p]==0),\n",
    "    z3.ForAll(p, tokenApprovals[p] == 0),\n",
    "    z3.ForAll(p, exists[p] == False),\n",
    "    z3.ForAll([p,q], operatorApproval[p][q]==False)\n",
    ")"
   ]
  },
  {
   "cell_type": "code",
   "execution_count": null,
   "metadata": {},
   "outputs": [],
   "source": []
  },
  {
   "cell_type": "code",
   "execution_count": 4,
   "metadata": {},
   "outputs": [],
   "source": [
    "tr_mint = z3.And(sender==owner,\n",
    "        receiver != 0,\n",
    "        z3.Not(exists[tokenId]),\n",
    "        ownerOfOut == z3.Update(ownerOf,tokenId,receiver),\n",
    "        existsOut == z3.Update(exists,tokenId,True),\n",
    "        balancesOut == z3.Update(balances,receiver,balances[receiver]+1),\n",
    "        tokenApprovalsOut == tokenApprovals,\n",
    "        operatorApprovalOut == operatorApproval\n",
    "        )\n",
    "\n",
    "tr_burn = z3.And(sender==owner,\n",
    "        exists[tokenId],\n",
    "        p == ownerOf[tokenId],\n",
    "        balancesOut == z3.Update(balances, p, balances[p]-1),\n",
    "        ownerOfOut == z3.Update(ownerOf, tokenId, 0),\n",
    "        existsOut == z3.Update(exists, tokenId, False),\n",
    "        tokenApprovalsOut == z3.Update(tokenApprovals, tokenId, 0),\n",
    "        operatorApprovalOut == operatorApproval\n",
    "        )\n",
    "\n",
    "tr_transfer = z3.And(p==ownerOf[tokenId],\n",
    "        receiver != 0,\n",
    "        balancesOut == z3.Update(z3.Update(balances,p,balances[p]-1), receiver, balances[receiver]+1),\n",
    "        tokenApprovalsOut == z3.Update(tokenApprovals,tokenId,0),\n",
    "        existsOut == exists,\n",
    "        ownerOfOut == z3.Update(ownerOf,tokenId,receiver),\n",
    "        operatorApprovalOut == operatorApproval\n",
    "        )\n",
    "\n",
    "tr_approve = z3.And(sender==ownerOf[tokenId],\n",
    "        tokenApprovalsOut == z3.Update(tokenApprovals, tokenId, receiver),\n",
    "        existsOut == exists,\n",
    "        balancesOut == balances,\n",
    "        ownerOfOut == ownerOf,\n",
    "        operatorApprovalOut == operatorApproval\n",
    "        )\n",
    "\n",
    "tr_setApprovalForAll = z3.And(sender != receiver,\n",
    "        operatorApprovalOut == z3.Update(operatorApproval, sender, \n",
    "                    z3.Update(operatorApproval[sender], receiver, True)),\n",
    "        tokenApprovalsOut == tokenApprovals,\n",
    "        existsOut == exists,\n",
    "        balancesOut == balances,\n",
    "        ownerOfOut == ownerOf,\n",
    "        )\n",
    "\n",
    "tr_transferFrom = z3.And(\n",
    "        p == ownerOf[tokenId],\n",
    "        receiver != 0,\n",
    "        z3.Or(sender==p, tokenApprovals[tokenId]==sender, operatorApproval[p][sender]),\n",
    "        balancesOut == z3.Update(z3.Update(balances,p,balances[p]-1), receiver, balances[receiver]+1),\n",
    "        tokenApprovalsOut == z3.Update(tokenApprovals,tokenId,0),\n",
    "        existsOut == exists,\n",
    "        ownerOfOut == z3.Update(ownerOf,tokenId,receiver),\n",
    "        operatorApprovalOut == operatorApproval\n",
    ")\n",
    "\n",
    "\n",
    "ts.Tr = z3.Or(tr_mint, tr_burn, tr_transfer, tr_approve, tr_setApprovalForAll)"
   ]
  },
  {
   "cell_type": "code",
   "execution_count": 5,
   "metadata": {},
   "outputs": [],
   "source": [
    "ts_property = z3.ForAll(p, z3.Implies(exists[p],ownerOf[p]!=0))"
   ]
  },
  {
   "cell_type": "code",
   "execution_count": 6,
   "metadata": {},
   "outputs": [
    {
     "name": "stdout",
     "output_type": "stream",
     "text": [
      "Prove init => property.\n",
      "proved\n",
      "Prove property is inductive.\n",
      "proved\n"
     ]
    }
   ],
   "source": [
    "prove_inductive(ts,ts_property)"
   ]
  },
  {
   "cell_type": "code",
   "execution_count": null,
   "metadata": {},
   "outputs": [],
   "source": []
  }
 ],
 "metadata": {
  "interpreter": {
   "hash": "aee8b7b246df8f9039afb4144a1f6fd8d2ca17a180786b69acc140d282b71a49"
  },
  "kernelspec": {
   "display_name": "Python 3.9.12 64-bit",
   "language": "python",
   "name": "python3"
  },
  "language_info": {
   "codemirror_mode": {
    "name": "ipython",
    "version": 3
   },
   "file_extension": ".py",
   "mimetype": "text/x-python",
   "name": "python",
   "nbconvert_exporter": "python",
   "pygments_lexer": "ipython3",
   "version": "3.9.12"
  },
  "orig_nbformat": 4
 },
 "nbformat": 4,
 "nbformat_minor": 2
}
