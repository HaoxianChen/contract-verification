{
 "cells": [
  {
   "cell_type": "code",
   "execution_count": 1,
   "metadata": {},
   "outputs": [],
   "source": [
    "import z3\n",
    "from lib.ts import Ts\n",
    "from lib.prove import prove_inductive, prove"
   ]
  },
  {
   "cell_type": "code",
   "execution_count": 44,
   "metadata": {},
   "outputs": [],
   "source": [
    "# The smart contract as a transition system.\n",
    "ts = Ts('auction')\n",
    "\n",
    "goal = z3.BitVec('goal',256)\n",
    "closeTime = z3.BitVec('closeTime', 256)\n",
    "timestamp = z3.BitVec('now', 256)\n",
    "\n",
    "addrSort = z3.BitVecSort(256)\n",
    "\n",
    "deposits, depositsOut = ts.add_var(z3.ArraySort(addrSort, z3.BitVecSort(256)),\n",
    "        name= 'deposits')\n",
    "totalDeposits, totalDepositsOut = ts.add_var(z3.BitVecSort(256), name='totalDeposits')\n",
    "\n",
    "raised, raisedOut = ts.add_var(z3.BitVecSort(256), name='raised')\n",
    "\n",
    "closed, closedOut = ts.add_var(z3.BoolSort(), name='closed')"
   ]
  },
  {
   "cell_type": "code",
   "execution_count": 47,
   "metadata": {},
   "outputs": [],
   "source": [
    "p = z3.BitVec('p',256)\n",
    "\n",
    "ts.Init = z3.And(\n",
    "    z3.ForAll(p, deposits[p]==0),\n",
    "    raised == 0,    \n",
    "    closed == False,\n",
    "    totalDeposits == 0\n",
    ")\n",
    "\n",
    "amount = z3.BitVec('amount',256)\n",
    "\n",
    "tr_invest = z3.And(\n",
    "    timestamp <= closeTime,\n",
    "    raised < goal,\n",
    "    raisedOut == raised + amount,\n",
    "    depositsOut == z3.Update(deposits,p,deposits[p]+amount),\n",
    "    totalDepositsOut == totalDeposits+amount\n",
    ")\n",
    "\n",
    "tr_close = z3.And(\n",
    "    timestamp > closeTime,\n",
    "    depositsOut == deposits,\n",
    "    raisedOut == raised,\n",
    "    totalDepositsOut == totalDeposits\n",
    ")\n",
    "\n",
    "tr_refund = z3.And(\n",
    "    closed,\n",
    "    raised < goal,\n",
    "    deposits[p] > 0,\n",
    "    depositsOut == z3.Update(deposits,p,0),\n",
    "    raisedOut == raised - deposits[p],\n",
    "    totalDepositsOut == totalDeposits - deposits[p]\n",
    ")\n",
    "\n",
    "tr_withdraw = z3.And(\n",
    "    closed,\n",
    "    raised > goal,\n",
    "    raisedOut == 0,\n",
    "    z3.ForAll(p, deposits[p]==0),\n",
    "    totalDepositsOut == 0\n",
    ")\n",
    "\n",
    "ts.Tr = z3.Or(tr_invest, tr_close, tr_refund, tr_withdraw)"
   ]
  },
  {
   "cell_type": "code",
   "execution_count": 48,
   "metadata": {},
   "outputs": [],
   "source": [
    "ts_property = raised == totalDeposits"
   ]
  },
  {
   "cell_type": "code",
   "execution_count": 49,
   "metadata": {},
   "outputs": [
    {
     "name": "stdout",
     "output_type": "stream",
     "text": [
      "Prove init => property.\n",
      "proved\n",
      "Prove property is inductive.\n",
      "proved\n"
     ]
    }
   ],
   "source": [
    "s = prove_inductive(ts, ts_property)"
   ]
  }
 ],
 "metadata": {
  "interpreter": {
   "hash": "aee8b7b246df8f9039afb4144a1f6fd8d2ca17a180786b69acc140d282b71a49"
  },
  "kernelspec": {
   "display_name": "Python 3.9.12 64-bit",
   "language": "python",
   "name": "python3"
  },
  "language_info": {
   "codemirror_mode": {
    "name": "ipython",
    "version": 3
   },
   "file_extension": ".py",
   "mimetype": "text/x-python",
   "name": "python",
   "nbconvert_exporter": "python",
   "pygments_lexer": "ipython3",
   "version": "3.9.12"
  },
  "orig_nbformat": 4
 },
 "nbformat": 4,
 "nbformat_minor": 2
}
