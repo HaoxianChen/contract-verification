{
 "cells": [
  {
   "cell_type": "code",
   "execution_count": 1,
   "metadata": {},
   "outputs": [],
   "source": [
    "import z3\n",
    "from lib.ts import Ts\n",
    "from lib.prove import prove_inductive, prove"
   ]
  },
  {
   "cell_type": "code",
   "execution_count": 2,
   "metadata": {},
   "outputs": [],
   "source": [
    "# The smart contract as a transition system.\n",
    "ts = Ts('auction')\n",
    "\n",
    "addrSort = z3.BitVecSort(16)\n",
    "\n",
    "auctionEndTime = z3.Int('auctionEndTime')\n",
    "\n",
    "ended, endedOut = ts.add_var(z3.BoolSort(), name='ended')\n",
    "\n",
    "pendingReturns, pendingReturnsOut = ts.add_var(z3.ArraySort(addrSort, z3.IntSort()),\n",
    "        name= 'pendingReturns')\n",
    "\n",
    "highestBidder, highestBidderOut = ts.add_var(addrSort, name='highestBidder')\n",
    "\n",
    "highestBid, highestBidOut = ts.add_var(z3.IntSort())\n",
    "\n",
    "withdrawCounts, withdrawCountsOut = ts.add_var(z3.ArraySort(addrSort, z3.IntSort()), \n",
    "        name='withdrawCount')"
   ]
  },
  {
   "cell_type": "code",
   "execution_count": 3,
   "metadata": {},
   "outputs": [],
   "source": [
    "p = z3.BitVec('p',16)\n",
    "ts.Init = z3.And(z3.ForAll(p,pendingReturns[p]==0),\n",
    "        highestBid == 0,\n",
    "        highestBidder == 0,\n",
    "        ended == False,\n",
    "        z3.ForAll(p, withdrawCounts[p]==0)\n",
    ")"
   ]
  },
  {
   "cell_type": "code",
   "execution_count": 4,
   "metadata": {},
   "outputs": [],
   "source": [
    "now = z3.Int('now')\n",
    "value = z3.Int('value')\n",
    "sender = z3.BitVec('sender', 16)\n",
    "\n",
    "tr_bid = z3.And(now < auctionEndTime,\n",
    "        value > highestBid,\n",
    "        highestBid > 0,\n",
    "        z3.Not(ended),\n",
    "        z3.Or(\n",
    "            z3.And(highestBid != 0, \n",
    "                pendingReturnsOut == z3.Update(pendingReturns,highestBidder,\n",
    "                                        pendingReturns[highestBidder]+highestBid)),\n",
    "            z3.And(highestBid == 0, pendingReturnsOut==pendingReturns)\n",
    "        ),\n",
    "        highestBidOut == value,\n",
    "        highestBidderOut == sender,\n",
    "        withdrawCountsOut == withdrawCounts,\n",
    "        endedOut == ended,\n",
    "        )\n",
    "\n",
    "tr_withdraw = z3.And(\n",
    "        pendingReturns[sender]>0,\n",
    "        ended,\n",
    "        pendingReturnsOut == z3.Update(pendingReturns, sender, 0),\n",
    "        withdrawCountsOut == z3.Update(withdrawCounts, sender, withdrawCounts[sender]+1),\n",
    "        endedOut == ended,\n",
    "        highestBidderOut==highestBidder,\n",
    "        highestBidOut == highestBid\n",
    ")\n",
    "\n",
    "tr_end = z3.And(\n",
    "        now >= auctionEndTime,\n",
    "        z3.Not(ended),\n",
    "        endedOut == True,\n",
    "        pendingReturnsOut == pendingReturns,\n",
    "        withdrawCountsOut==withdrawCounts,\n",
    "        highestBidderOut==highestBidder,\n",
    "        highestBidOut == highestBid\n",
    ")\n",
    "\n",
    "ts.Tr = z3.Or( \n",
    "    tr_bid, \n",
    "    tr_withdraw, \n",
    "    tr_end\n",
    "    )"
   ]
  },
  {
   "cell_type": "code",
   "execution_count": 5,
   "metadata": {},
   "outputs": [],
   "source": [
    "pp = z3.Const('pp', addrSort)\n",
    "ts_property = z3.ForAll(pp, withdrawCounts[pp] <= 1)"
   ]
  },
  {
   "cell_type": "code",
   "execution_count": 12,
   "metadata": {},
   "outputs": [
    {
     "name": "stdout",
     "output_type": "stream",
     "text": [
      "Prove init => property.\n",
      "proved\n",
      "Prove property is inductive.\n",
      "proved\n"
     ]
    }
   ],
   "source": [
    "pp = z3.Const('pp', addrSort)\n",
    "# p0 = z3.And(z3.And(withdrawCounts[pp]!=0, withdrawCounts[pp]>=0))\n",
    "p0 = withdrawCounts[pp]!=0\n",
    "p1 = z3.ForAll(pp, z3.Implies(p0, z3.Not(pendingReturns[pp]>0)))\n",
    "p2 = z3.ForAll(pp, z3.Implies(p0, ended))\n",
    "lemma = z3.And(p1,p2)\n",
    "prove_inductive(ts,lemma)"
   ]
  },
  {
   "cell_type": "code",
   "execution_count": 13,
   "metadata": {},
   "outputs": [
    {
     "name": "stdout",
     "output_type": "stream",
     "text": [
      "Prove init => property.\n",
      "proved\n",
      "Prove property is inductive.\n",
      "proved\n"
     ]
    }
   ],
   "source": [
    "prove_inductive(ts, ts_property, lemma)"
   ]
  },
  {
   "cell_type": "code",
   "execution_count": 14,
   "metadata": {},
   "outputs": [
    {
     "name": "stdout",
     "output_type": "stream",
     "text": [
      "Prove init => property.\n",
      "proved\n",
      "Prove property is inductive.\n",
      "failed to prove:  unknown\n",
      "Implies(And(ForAll(pp,\n",
      "                   Implies(And(And(withdrawCount[pp] != 0,\n",
      "                                   withdrawCount[pp] >= 0)),\n",
      "                           pendingReturns[pp] == 0)),\n",
      "            Or(And(now < auctionEndTime,\n",
      "                   value > v_3,\n",
      "                   v_3 > 0,\n",
      "                   Not(ended),\n",
      "                   Or(And(v_3 != 0,\n",
      "                          pendingReturns' ==\n",
      "                          Store(pendingReturns,\n",
      "                                highestBidder,\n",
      "                                pendingReturns[highestBidder] +\n",
      "                                v_3)),\n",
      "                      And(v_3 == 0,\n",
      "                          pendingReturns' == pendingReturns)),\n",
      "                   v_out_3 == value,\n",
      "                   highestBidder' == sender,\n",
      "                   withdrawCount' == withdrawCount,\n",
      "                   ended' == ended),\n",
      "               And(pendingReturns[sender] > 0,\n",
      "                   ended,\n",
      "                   pendingReturns' ==\n",
      "                   Store(pendingReturns, sender, 0),\n",
      "                   withdrawCount' ==\n",
      "                   Store(withdrawCount,\n",
      "                         sender,\n",
      "                         withdrawCount[sender] + 1),\n",
      "                   ended' == ended,\n",
      "                   highestBidder' == highestBidder,\n",
      "                   v_out_3 == v_3),\n",
      "               And(now >= auctionEndTime,\n",
      "                   Not(ended),\n",
      "                   ended' == True,\n",
      "                   pendingReturns' == pendingReturns,\n",
      "                   withdrawCount' == withdrawCount,\n",
      "                   highestBidder' == highestBidder,\n",
      "                   v_out_3 == v_3))),\n",
      "        ForAll(pp,\n",
      "               Implies(And(And(withdrawCount'[pp] != 0,\n",
      "                               withdrawCount'[pp] >= 0)),\n",
      "                       pendingReturns'[pp] == 0)))\n"
     ]
    },
    {
     "ename": "Z3Exception",
     "evalue": "model is not available",
     "output_type": "error",
     "traceback": [
      "\u001b[0;31m---------------------------------------------------------------------------\u001b[0m",
      "\u001b[0;31mZ3Exception\u001b[0m                               Traceback (most recent call last)",
      "File \u001b[0;32m/usr/local/lib/python3.9/site-packages/z3/z3.py:7029\u001b[0m, in \u001b[0;36mSolver.model\u001b[0;34m(self)\u001b[0m\n\u001b[1;32m   7028\u001b[0m \u001b[39mtry\u001b[39;00m:\n\u001b[0;32m-> 7029\u001b[0m     \u001b[39mreturn\u001b[39;00m ModelRef(Z3_solver_get_model(\u001b[39mself\u001b[39;49m\u001b[39m.\u001b[39;49mctx\u001b[39m.\u001b[39;49mref(), \u001b[39mself\u001b[39;49m\u001b[39m.\u001b[39;49msolver), \u001b[39mself\u001b[39m\u001b[39m.\u001b[39mctx)\n\u001b[1;32m   7030\u001b[0m \u001b[39mexcept\u001b[39;00m Z3Exception:\n",
      "File \u001b[0;32m/usr/local/lib/python3.9/site-packages/z3/z3core.py:3833\u001b[0m, in \u001b[0;36mZ3_solver_get_model\u001b[0;34m(a0, a1, _elems)\u001b[0m\n\u001b[1;32m   3832\u001b[0m r \u001b[39m=\u001b[39m _elems\u001b[39m.\u001b[39mf(a0, a1)\n\u001b[0;32m-> 3833\u001b[0m _elems\u001b[39m.\u001b[39;49mCheck(a0)\n\u001b[1;32m   3834\u001b[0m \u001b[39mreturn\u001b[39;00m r\n",
      "File \u001b[0;32m/usr/local/lib/python3.9/site-packages/z3/z3core.py:1416\u001b[0m, in \u001b[0;36mElementaries.Check\u001b[0;34m(self, ctx)\u001b[0m\n\u001b[1;32m   1415\u001b[0m \u001b[39mif\u001b[39;00m err \u001b[39m!=\u001b[39m \u001b[39mself\u001b[39m\u001b[39m.\u001b[39mOK:\n\u001b[0;32m-> 1416\u001b[0m     \u001b[39mraise\u001b[39;00m \u001b[39mself\u001b[39m\u001b[39m.\u001b[39mException(\u001b[39mself\u001b[39m\u001b[39m.\u001b[39mget_error_message(ctx, err))\n",
      "\u001b[0;31mZ3Exception\u001b[0m: b'there is no current model'",
      "\nDuring handling of the above exception, another exception occurred:\n",
      "\u001b[0;31mZ3Exception\u001b[0m                               Traceback (most recent call last)",
      "\u001b[1;32m/Users/hxc/Google/projects/contract-verification/manual/prove-auction.ipynb Cell 7\u001b[0m in \u001b[0;36m<cell line: 1>\u001b[0;34m()\u001b[0m\n\u001b[0;32m----> <a href='vscode-notebook-cell:/Users/hxc/Google/projects/contract-verification/manual/prove-auction.ipynb#X40sZmlsZQ%3D%3D?line=0'>1</a>\u001b[0m prove_inductive(ts,p1)\n",
      "File \u001b[0;32m~/Google/projects/contract-verification/manual/lib/prove.py:48\u001b[0m, in \u001b[0;36mprove_inductive\u001b[0;34m(_ts, _property, lemma)\u001b[0m\n\u001b[1;32m     46\u001b[0m     f2 \u001b[39m=\u001b[39m get_clause(z3\u001b[39m.\u001b[39mAnd(_property, _ts\u001b[39m.\u001b[39mTr), _ts\u001b[39m.\u001b[39mto_post(_property))\n\u001b[1;32m     47\u001b[0m \u001b[39mprint\u001b[39m (\u001b[39m\"\u001b[39m\u001b[39mProve property is inductive.\u001b[39m\u001b[39m\"\u001b[39m)\n\u001b[0;32m---> 48\u001b[0m prove(f2)\n",
      "File \u001b[0;32m~/Google/projects/contract-verification/manual/lib/prove.py:35\u001b[0m, in \u001b[0;36mprove\u001b[0;34m(f)\u001b[0m\n\u001b[1;32m     33\u001b[0m     \u001b[39mprint\u001b[39m (\u001b[39m\"\u001b[39m\u001b[39mfailed to prove: \u001b[39m\u001b[39m\"\u001b[39m, result)\n\u001b[1;32m     34\u001b[0m     \u001b[39mprint\u001b[39m (f)\n\u001b[0;32m---> 35\u001b[0m     \u001b[39mprint\u001b[39m (s\u001b[39m.\u001b[39;49mmodel())\n\u001b[1;32m     36\u001b[0m \u001b[39mreturn\u001b[39;00m s\n",
      "File \u001b[0;32m/usr/local/lib/python3.9/site-packages/z3/z3.py:7031\u001b[0m, in \u001b[0;36mSolver.model\u001b[0;34m(self)\u001b[0m\n\u001b[1;32m   7029\u001b[0m     \u001b[39mreturn\u001b[39;00m ModelRef(Z3_solver_get_model(\u001b[39mself\u001b[39m\u001b[39m.\u001b[39mctx\u001b[39m.\u001b[39mref(), \u001b[39mself\u001b[39m\u001b[39m.\u001b[39msolver), \u001b[39mself\u001b[39m\u001b[39m.\u001b[39mctx)\n\u001b[1;32m   7030\u001b[0m \u001b[39mexcept\u001b[39;00m Z3Exception:\n\u001b[0;32m-> 7031\u001b[0m     \u001b[39mraise\u001b[39;00m Z3Exception(\u001b[39m\"\u001b[39m\u001b[39mmodel is not available\u001b[39m\u001b[39m\"\u001b[39m)\n",
      "\u001b[0;31mZ3Exception\u001b[0m: model is not available"
     ]
    }
   ],
   "source": [
    "prove_inductive(ts,p1)"
   ]
  },
  {
   "cell_type": "code",
   "execution_count": 17,
   "metadata": {},
   "outputs": [],
   "source": [
    "pp = z3.Const('pp', addrSort)\n",
    "\n",
    "p1 = z3.ForAll(pp, z3.Implies(pendingReturns[pp] > 0, withdrawCounts[pp] == 0))\n",
    "p2 = z3.ForAll(pp, z3.Implies(z3.Not(ended), withdrawCounts[pp] == 0))\n"
   ]
  },
  {
   "cell_type": "code",
   "execution_count": 26,
   "metadata": {},
   "outputs": [
    {
     "name": "stdout",
     "output_type": "stream",
     "text": [
      "Prove init => property.\n",
      "proved\n",
      "Prove property is inductive.\n",
      "proved\n"
     ]
    }
   ],
   "source": [
    "lemma = z3.And(p1,p2)\n",
    "prove_inductive(ts,lemma)"
   ]
  },
  {
   "cell_type": "code",
   "execution_count": 13,
   "metadata": {},
   "outputs": [
    {
     "name": "stdout",
     "output_type": "stream",
     "text": [
      "Prove init => property.\n",
      "proved\n",
      "Prove property is inductive.\n",
      "proved\n"
     ]
    }
   ],
   "source": [
    "prove_inductive(ts, ts_property , lemma)"
   ]
  },
  {
   "cell_type": "code",
   "execution_count": 6,
   "metadata": {},
   "outputs": [],
   "source": [
    "pp = z3.Const('pp', addrSort)\n",
    "p1 = z3.ForAll(pp, z3.Implies(withdrawCounts[pp]>0, pendingReturns[pp]==0))\n",
    "p2 = z3.ForAll(pp, z3.Implies(withdrawCounts[pp]>0,  ended))\n",
    "lemma = z3.And(p1,p2)"
   ]
  },
  {
   "cell_type": "code",
   "execution_count": 7,
   "metadata": {},
   "outputs": [
    {
     "name": "stdout",
     "output_type": "stream",
     "text": [
      "Prove init => property.\n",
      "proved\n",
      "Prove property is inductive.\n",
      "proved\n"
     ]
    }
   ],
   "source": [
    "prove_inductive(ts, lemma)"
   ]
  },
  {
   "cell_type": "code",
   "execution_count": 8,
   "metadata": {},
   "outputs": [
    {
     "name": "stdout",
     "output_type": "stream",
     "text": [
      "Prove init => property.\n",
      "proved\n",
      "Prove property is inductive.\n",
      "proved\n"
     ]
    }
   ],
   "source": [
    "prove_inductive(ts,ts_property,lemma)"
   ]
  },
  {
   "cell_type": "code",
   "execution_count": null,
   "metadata": {},
   "outputs": [],
   "source": []
  }
 ],
 "metadata": {
  "interpreter": {
   "hash": "aee8b7b246df8f9039afb4144a1f6fd8d2ca17a180786b69acc140d282b71a49"
  },
  "kernelspec": {
   "display_name": "Python 3.9.12 64-bit",
   "language": "python",
   "name": "python3"
  },
  "language_info": {
   "codemirror_mode": {
    "name": "ipython",
    "version": 3
   },
   "file_extension": ".py",
   "mimetype": "text/x-python",
   "name": "python",
   "nbconvert_exporter": "python",
   "pygments_lexer": "ipython3",
   "version": "3.9.12"
  },
  "orig_nbformat": 4
 },
 "nbformat": 4,
 "nbformat_minor": 2
}
