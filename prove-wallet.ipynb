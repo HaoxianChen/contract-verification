{
 "cells": [
  {
   "cell_type": "code",
   "execution_count": 1,
   "metadata": {},
   "outputs": [],
   "source": [
    "import z3\n",
    "from lib.ts import Ts\n",
    "from lib.prove import prove_inductive"
   ]
  },
  {
   "cell_type": "code",
   "execution_count": 2,
   "metadata": {},
   "outputs": [],
   "source": [
    "# The smart contract as a transition system.\n",
    "ts = Ts('wallet')\n",
    "\n",
    "owner = 100\n",
    "sender = z3.BitVec('sender', 16)\n",
    "receiver = z3.BitVec('receiver', 16)\n",
    "amount = z3.Int('amount')\n",
    "p = z3.BitVec('p',16)\n",
    "address = z3.BitVec('address',16)\n",
    "totalSupply, totalSupplyOut = ts.add_var(z3.IntSort(), name='totalSupply')\n",
    "\n",
    "# Balances as an array, mapping from address to Integer.\n",
    "balances, balancesOut = ts.add_var(z3.ArraySort(z3.BitVecSort(16), z3.IntSort()), name='balance')\n"
   ]
  },
  {
   "cell_type": "code",
   "execution_count": 3,
   "metadata": {},
   "outputs": [],
   "source": [
    "# Transitions\n",
    "\n",
    "ts.Init = z3.And(totalSupply == 0, z3.ForAll(p, balances[p]==0))\n",
    "\n",
    "tr_mint = z3.And(sender==owner, amount > 0, totalSupplyOut == totalSupply + amount, \n",
    "                address > 0,\n",
    "               balancesOut == z3.Update(balances,address,balances[address]+amount))\n",
    "\n",
    "tr_burn = z3.And(sender==owner, amount > 0, amount <= balances[p], \n",
    "                totalSupplyOut == totalSupply - amount,\n",
    "                balancesOut == z3.Update(balances,p,balances[p]-amount))\n",
    "\n",
    "\n",
    "tr_transfer = z3.And(balances[sender] >= amount, amount > 0, \n",
    "                    balancesOut == z3.Update(z3.Update(balances,sender,balances[sender]-amount), \n",
    "                        receiver, balances[receiver]+amount))\n",
    "\n",
    "ts.Tr = z3.Or(tr_mint, tr_burn, tr_transfer)\n"
   ]
  },
  {
   "cell_type": "code",
   "execution_count": 4,
   "metadata": {},
   "outputs": [],
   "source": [
    "# Property as an inductive invariant. \n",
    "ts_property = z3.ForAll(p, balances[p] >= 0)"
   ]
  },
  {
   "cell_type": "code",
   "execution_count": 5,
   "metadata": {},
   "outputs": [
    {
     "name": "stdout",
     "output_type": "stream",
     "text": [
      "Prove init => property.\n",
      "proved\n",
      "Prove property is inductive.\n",
      "proved\n"
     ]
    }
   ],
   "source": [
    "prove_inductive(ts,ts_property)"
   ]
  }
 ],
 "metadata": {
  "interpreter": {
   "hash": "aee8b7b246df8f9039afb4144a1f6fd8d2ca17a180786b69acc140d282b71a49"
  },
  "kernelspec": {
   "display_name": "Python 3.9.12 64-bit",
   "language": "python",
   "name": "python3"
  },
  "language_info": {
   "codemirror_mode": {
    "name": "ipython",
    "version": 3
   },
   "file_extension": ".py",
   "mimetype": "text/x-python",
   "name": "python",
   "nbconvert_exporter": "python",
   "pygments_lexer": "ipython3",
   "version": "3.9.12"
  },
  "orig_nbformat": 4
 },
 "nbformat": 4,
 "nbformat_minor": 2
}
