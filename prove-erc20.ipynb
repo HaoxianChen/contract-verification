{
 "cells": [
  {
   "cell_type": "code",
   "execution_count": 2,
   "metadata": {},
   "outputs": [],
   "source": [
    "import z3\n",
    "from lib.ts import Ts\n",
    "from lib.prove import prove_inductive"
   ]
  },
  {
   "cell_type": "code",
   "execution_count": 3,
   "metadata": {},
   "outputs": [],
   "source": [
    "# The smart contract as a transition system.\n",
    "ts = Ts('erc20')\n",
    "\n",
    "owner = 100\n",
    "sender = z3.BitVec('sender', 16)\n",
    "receiver = z3.BitVec('receiver', 16)\n",
    "amount = z3.Int('amount')\n",
    "p = z3.BitVec('p',16)\n",
    "q = z3.BitVec('q',16)\n",
    "address = z3.BitVec('address',16)\n",
    "\n",
    "\n",
    "totalSupply, totalSupplyOut = ts.add_var(z3.IntSort(), name='totalSupply')\n",
    "\n",
    "# Balances as an array, mapping from address to Integer.\n",
    "balances, balancesOut = ts.add_var(z3.ArraySort(z3.BitVecSort(16), z3.IntSort()), name='balance')\n",
    "\n",
    "# Allowance \n",
    "allowance, allowanceOut = ts.add_var(z3.ArraySort(z3.BitVecSort(16), \n",
    "        z3.ArraySort(z3.BitVecSort(16), z3.IntSort())),\n",
    "        name='allowance')\n",
    "\n",
    "# Track the sum of all balances.\n",
    "sumOfBalance, sumOfBalanceOut = ts.add_var(z3.IntSort(), name='sumOfBalance')"
   ]
  },
  {
   "cell_type": "code",
   "execution_count": 4,
   "metadata": {},
   "outputs": [],
   "source": [
    "ts.Init = z3.And(totalSupply == 0,\n",
    "    z3.ForAll(p, balances[p]==0),\n",
    "    z3.ForAll([p,q], allowance[p][q] == 0),\n",
    "    sumOfBalance == 0\n",
    "    )"
   ]
  },
  {
   "cell_type": "code",
   "execution_count": 5,
   "metadata": {},
   "outputs": [],
   "source": [
    "def updateAllowance(_a, _sender, _operator, _amount):\n",
    "    return z3.Update(_a, _sender, z3.Update(_a[_sender],_operator, _amount))"
   ]
  },
  {
   "cell_type": "code",
   "execution_count": 6,
   "metadata": {},
   "outputs": [],
   "source": [
    "tr_mint = z3.And(sender==owner, amount > 0, \n",
    "                address > 0, \n",
    "               totalSupplyOut == totalSupply + amount,\n",
    "               balancesOut == z3.Update(balances,address,balances[address]+amount),\n",
    "               allowanceOut == allowance,\n",
    "               sumOfBalanceOut == sumOfBalance+amount)\n",
    "\n",
    "tr_burn = z3.And(sender==owner, amount > 0, amount <= balances[p], \n",
    "                totalSupplyOut == totalSupply - amount,\n",
    "                balancesOut == z3.Update(balances,p,balances[p]-amount),\n",
    "                allowanceOut == allowance,\n",
    "                sumOfBalanceOut == sumOfBalance-amount)\n",
    "\n",
    "tr_transfer = z3.And(balances[sender] >= amount, amount > 0, \n",
    "        balancesOut == z3.Update(z3.Update(balances,sender,balances[sender]-amount), \n",
    "            receiver, balances[receiver]+amount),\n",
    "        totalSupplyOut == totalSupply,\n",
    "        sumOfBalanceOut == sumOfBalance,\n",
    "        allowanceOut == allowance)\n",
    "\n",
    "operator = z3.BitVec('receiver', 16)\n",
    "tr_transfer_from = z3.And(balances[sender] >= amount, amount > 0, \n",
    "        allowance[sender][operator] >= amount,\n",
    "        balancesOut == z3.Update(z3.Update(balances,sender,balances[sender]-amount), \n",
    "            receiver, balances[receiver]+amount),\n",
    "        allowanceOut == updateAllowance(allowance, sender, operator, allowance[sender][operator]-amount),\n",
    "        sumOfBalanceOut == sumOfBalance,\n",
    "        totalSupplyOut == totalSupply\n",
    "    )\n",
    "\n",
    "tr_approve = z3.And(amount > 0, \n",
    "    allowanceOut == updateAllowance(allowance, sender, operator, amount),\n",
    "    balancesOut == balances,\n",
    "    totalSupplyOut == totalSupply,\n",
    "    sumOfBalanceOut == sumOfBalance\n",
    "    )\n",
    "\n",
    "ts.Tr = z3.Or(\n",
    "    tr_mint, \n",
    "    tr_burn, tr_transfer, \n",
    "    tr_transfer_from, \n",
    "    tr_approve\n",
    "    )"
   ]
  },
  {
   "cell_type": "code",
   "execution_count": 7,
   "metadata": {},
   "outputs": [],
   "source": [
    "# Property as an inductive invariant. \n",
    "# ts_property = z3.ForAll(p, balances[p] >= 0)\n",
    "\n",
    "# The sum of all account balance equals to total supply.\n",
    "ts_property = sumOfBalance == totalSupply"
   ]
  },
  {
   "cell_type": "code",
   "execution_count": 8,
   "metadata": {},
   "outputs": [
    {
     "name": "stdout",
     "output_type": "stream",
     "text": [
      "Prove init => property.\n",
      "proved\n",
      "Prove property is inductive.\n",
      "proved\n"
     ]
    }
   ],
   "source": [
    "prove_inductive(ts, ts_property)"
   ]
  },
  {
   "cell_type": "code",
   "execution_count": null,
   "metadata": {},
   "outputs": [],
   "source": []
  }
 ],
 "metadata": {
  "interpreter": {
   "hash": "aee8b7b246df8f9039afb4144a1f6fd8d2ca17a180786b69acc140d282b71a49"
  },
  "kernelspec": {
   "display_name": "Python 3.9.12 64-bit",
   "language": "python",
   "name": "python3"
  },
  "language_info": {
   "codemirror_mode": {
    "name": "ipython",
    "version": 3
   },
   "file_extension": ".py",
   "mimetype": "text/x-python",
   "name": "python",
   "nbconvert_exporter": "python",
   "pygments_lexer": "ipython3",
   "version": "3.9.12"
  },
  "orig_nbformat": 4
 },
 "nbformat": 4,
 "nbformat_minor": 2
}
