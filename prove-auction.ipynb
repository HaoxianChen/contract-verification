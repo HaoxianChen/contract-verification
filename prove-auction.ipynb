{
 "cells": [
  {
   "cell_type": "code",
   "execution_count": 1,
   "metadata": {},
   "outputs": [],
   "source": [
    "import z3\n",
    "from lib.ts import Ts\n",
    "from lib.prove import prove_inductive, prove"
   ]
  },
  {
   "cell_type": "code",
   "execution_count": 2,
   "metadata": {},
   "outputs": [],
   "source": [
    "# The smart contract as a transition system.\n",
    "ts = Ts('auction')\n",
    "\n",
    "addrSort = z3.BitVecSort(16)\n",
    "\n",
    "auctionEndTime = z3.Int('auctionEndTime')\n",
    "\n",
    "ended, endedOut = ts.add_var(z3.BoolSort(), name='ended')\n",
    "\n",
    "pendingReturns, pendingReturnsOut = ts.add_var(z3.ArraySort(addrSort, z3.BitVecSort(16)),\n",
    "        name= 'pendingReturns')\n",
    "\n",
    "highestBidder, highestBidderOut = ts.add_var(addrSort, name='highestBidder')\n",
    "\n",
    "highestBid, highestBidOut = ts.add_var(z3.BitVecSort(16))\n",
    "\n",
    "withdrawCounts, withdrawCountsOut = ts.add_var(z3.ArraySort(addrSort, z3.IntSort()), \n",
    "        name='withdrawCount')"
   ]
  },
  {
   "cell_type": "code",
   "execution_count": 3,
   "metadata": {},
   "outputs": [],
   "source": [
    "p = z3.BitVec('p',16)\n",
    "ts.Init = z3.And(z3.ForAll(p,pendingReturns[p]==0),\n",
    "        highestBid == 0,\n",
    "        highestBidder == 0,\n",
    "        ended == False,\n",
    "        z3.ForAll(p, withdrawCounts[p]==0)\n",
    ")"
   ]
  },
  {
   "cell_type": "code",
   "execution_count": 4,
   "metadata": {},
   "outputs": [],
   "source": [
    "now = z3.Int('now')\n",
    "value = z3.BitVec('value', 16)\n",
    "sender = z3.BitVec('sender', 16)\n",
    "\n",
    "tr_bid = z3.And(now < auctionEndTime,\n",
    "        value > highestBid,\n",
    "        z3.Not(ended),\n",
    "        z3.Or(\n",
    "            z3.And(highestBid != 0, \n",
    "                pendingReturnsOut == z3.Update(pendingReturns,highestBidder,\n",
    "                                        pendingReturns[highestBidder]+highestBid)),\n",
    "            z3.And(highestBid == 0, pendingReturnsOut==pendingReturns)\n",
    "        ),\n",
    "        highestBidOut == value,\n",
    "        highestBidderOut == sender,\n",
    "        withdrawCountsOut == withdrawCounts,\n",
    "        endedOut == ended,\n",
    "        )\n",
    "\n",
    "tr_withdraw = z3.And(\n",
    "        pendingReturns[sender]>0,\n",
    "        ended,\n",
    "        pendingReturnsOut == z3.Update(pendingReturns, sender, 0),\n",
    "        withdrawCountsOut == z3.Update(withdrawCounts, sender, withdrawCounts[sender]+1),\n",
    "        endedOut == ended,\n",
    "        highestBidderOut==highestBidder,\n",
    "        highestBidOut == highestBid\n",
    ")\n",
    "\n",
    "tr_end = z3.And(\n",
    "        now >= auctionEndTime,\n",
    "        z3.Not(ended),\n",
    "        endedOut == True,\n",
    "        pendingReturnsOut == pendingReturns,\n",
    "        withdrawCountsOut==withdrawCounts,\n",
    "        highestBidderOut==highestBidder,\n",
    "        highestBidOut == highestBid\n",
    ")\n",
    "\n",
    "ts.Tr = z3.Or( \n",
    "    tr_bid, \n",
    "    tr_withdraw, \n",
    "    tr_end\n",
    "    )"
   ]
  },
  {
   "cell_type": "code",
   "execution_count": 5,
   "metadata": {},
   "outputs": [],
   "source": [
    "p1 = z3.ForAll(p, z3.Implies(pendingReturns[p] > 0, withdrawCounts[p] == 0))\n",
    "p2 = z3.ForAll(p, z3.Implies(z3.And(z3.Not(ended)), withdrawCounts[p] == 0))"
   ]
  },
  {
   "cell_type": "code",
   "execution_count": 6,
   "metadata": {},
   "outputs": [
    {
     "name": "stdout",
     "output_type": "stream",
     "text": [
      "Prove init => property.\n",
      "proved\n",
      "Prove property is inductive.\n",
      "proved\n"
     ]
    }
   ],
   "source": [
    "prove_inductive(ts, z3.And(p1,p2))"
   ]
  },
  {
   "cell_type": "code",
   "execution_count": 7,
   "metadata": {},
   "outputs": [],
   "source": [
    "p3 = z3.ForAll(p, z3.Implies(pendingReturns[p]<=0, withdrawCounts[p] <= 1))"
   ]
  },
  {
   "cell_type": "code",
   "execution_count": 8,
   "metadata": {},
   "outputs": [
    {
     "name": "stdout",
     "output_type": "stream",
     "text": [
      "Prove init => property.\n",
      "proved\n",
      "Prove property is inductive.\n",
      "proved\n"
     ]
    }
   ],
   "source": [
    "prove_inductive(ts, z3.And(p1,p2,p3))"
   ]
  },
  {
   "cell_type": "code",
   "execution_count": 9,
   "metadata": {},
   "outputs": [
    {
     "name": "stdout",
     "output_type": "stream",
     "text": [
      "proved\n"
     ]
    },
    {
     "data": {
      "text/html": [
       "[&not;((&forall;p : pendingReturns[p] &gt; 0 &rArr; withdrawCount[p] = 0) &and;\n",
       "   (&forall;p : &not;ended &rArr; withdrawCount[p] = 0) &and;\n",
       "   (&forall;p : pendingReturns[p] &le; 0 &rArr; withdrawCount[p] &le; 1) &rArr;\n",
       "   (&forall;p : withdrawCount[p] &le; 1))]"
      ],
      "text/plain": [
       "[Not(Implies(And(ForAll(p,\n",
       "                        Implies(pendingReturns[p] > 0,\n",
       "                                withdrawCount[p] == 0)),\n",
       "                 ForAll(p,\n",
       "                        Implies(And(Not(ended)),\n",
       "                                withdrawCount[p] == 0)),\n",
       "                 ForAll(p,\n",
       "                        Implies(pendingReturns[p] <= 0,\n",
       "                                withdrawCount[p] <= 1))),\n",
       "             ForAll(p, withdrawCount[p] <= 1)))]"
      ]
     },
     "execution_count": 9,
     "metadata": {},
     "output_type": "execute_result"
    }
   ],
   "source": [
    "ts_property = z3.ForAll(p, withdrawCounts[p] <= 1)\n",
    "prove(z3.Implies(z3.And(p1,p2,p3), ts_property))"
   ]
  },
  {
   "cell_type": "code",
   "execution_count": null,
   "metadata": {},
   "outputs": [],
   "source": []
  }
 ],
 "metadata": {
  "interpreter": {
   "hash": "aee8b7b246df8f9039afb4144a1f6fd8d2ca17a180786b69acc140d282b71a49"
  },
  "kernelspec": {
   "display_name": "Python 3.9.12 64-bit",
   "language": "python",
   "name": "python3"
  },
  "language_info": {
   "codemirror_mode": {
    "name": "ipython",
    "version": 3
   },
   "file_extension": ".py",
   "mimetype": "text/x-python",
   "name": "python",
   "nbconvert_exporter": "python",
   "pygments_lexer": "ipython3",
   "version": "3.9.12"
  },
  "orig_nbformat": 4
 },
 "nbformat": 4,
 "nbformat_minor": 2
}
